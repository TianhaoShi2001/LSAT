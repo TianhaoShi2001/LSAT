{
 "cells": [
  {
   "cell_type": "markdown",
   "metadata": {},
   "source": [
    "process meta information\n"
   ]
  },
  {
   "cell_type": "code",
   "execution_count": null,
   "metadata": {},
   "outputs": [],
   "source": [
    "import pandas as pd \n",
    "import numpy as np\n",
    "meta_data = pd.read_json('/data/shith/amazon_book/meta_Books.json', lines = True)"
   ]
  },
  {
   "cell_type": "code",
   "execution_count": null,
   "metadata": {},
   "outputs": [],
   "source": [
    "print(meta_data.head(5))\n",
    "print(meta_data.columns)"
   ]
  },
  {
   "cell_type": "code",
   "execution_count": null,
   "metadata": {},
   "outputs": [],
   "source": [
    "book_data = pd.read_json('/data/shith/amazon_book/Books_5.json', lines = True)\n",
    "print(book_data.head(5))\n",
    "print(book_data.columns)"
   ]
  },
  {
   "cell_type": "code",
   "execution_count": null,
   "metadata": {},
   "outputs": [],
   "source": [
    "all_data = pd.merge(meta_data, book_data, how = 'right', on= 'asin')"
   ]
  },
  {
   "cell_type": "code",
   "execution_count": null,
   "metadata": {},
   "outputs": [],
   "source": [
    "print(all_data.columns)\n",
    "all_data = all_data.loc[:,['asin', 'title', 'reviewerID', 'unixReviewTime', 'overall']]\n",
    "# print(all_data.isnull())"
   ]
  },
  {
   "cell_type": "code",
   "execution_count": null,
   "metadata": {},
   "outputs": [],
   "source": [
    "null_counts = all_data.isnull().sum()\n",
    "print(null_counts)"
   ]
  },
  {
   "cell_type": "code",
   "execution_count": null,
   "metadata": {},
   "outputs": [],
   "source": [
    "all_data = all_data.dropna(axis=0)  # 删除包含空值的行\n",
    "null_counts = all_data.isnull().sum()\n",
    "print(null_counts)"
   ]
  },
  {
   "cell_type": "code",
   "execution_count": null,
   "metadata": {},
   "outputs": [],
   "source": [
    "print(all_data.head(5))\n",
    "all_data.to_hdf('/data/shith/amazon_book/amazon_book.hdf', key = '5-core')"
   ]
  },
  {
   "cell_type": "markdown",
   "metadata": {},
   "source": [
    "preserve_part_df_and_part_user"
   ]
  },
  {
   "cell_type": "code",
   "execution_count": null,
   "metadata": {},
   "outputs": [],
   "source": [
    "import pandas as pd\n",
    "import numpy as np\n",
    "all_df = pd.read_hdf('/data/shith/amazon_book/amazon_book.hdf')"
   ]
  },
  {
   "cell_type": "code",
   "execution_count": 65,
   "metadata": {},
   "outputs": [
    {
     "name": "stdout",
     "output_type": "stream",
     "text": [
      "最大时间：1538438400\n",
      "最小时间：832550400\n",
      "2018-10-02 00:00:00\n",
      "1996-05-20 00:00:00\n",
      "A2F6N60Z96CAJI    8917\n",
      "A2OJW07GQRNJUT    5901\n",
      "AHUT55E980RDR     5799\n",
      "A328S9RN3U5M68    5296\n",
      "A1JLU5H1CCENWX    3821\n",
      "                  ... \n",
      "A3NILEEBP65H1V       2\n",
      "A2Y59LS8W4PW3Y       2\n",
      "AFLCR5LX34TYK        2\n",
      "A1O1E7R71BVH9K       1\n",
      "AGO95BGHQTQ5T        1\n",
      "Name: reviewerID, Length: 1856344, dtype: int64\n",
      "A2F6N60Z96CAJI    8917\n",
      "A2OJW07GQRNJUT    5901\n",
      "AHUT55E980RDR     5799\n",
      "A328S9RN3U5M68    5296\n",
      "A1JLU5H1CCENWX    3821\n",
      "                  ... \n",
      "A3G7COJM3OAE06      11\n",
      "A3FNALYQQKCV47      11\n",
      "A1Z1CA3B6I2XNB      11\n",
      "A1NZNWX58WMP7W      11\n",
      "A32D7G5WWQ4DGX      11\n",
      "Name: reviewerID, Length: 636497, dtype: int64\n"
     ]
    }
   ],
   "source": [
    "df = all_df.copy()\n",
    "df['overall'] = df['overall'].apply(lambda x: int(int(x>3)))\n",
    "max_time = df['unixReviewTime'].max()\n",
    "min_time = df['unixReviewTime'].min()\n",
    "print(f\"最大时间：{max_time}\")\n",
    "print(f\"最小时间：{min_time}\")\n",
    "from datetime import datetime\n",
    "print(datetime.utcfromtimestamp(max_time).strftime('%Y-%m-%d %H:%M:%S'))\n",
    "print(datetime.utcfromtimestamp(min_time).strftime('%Y-%m-%d %H:%M:%S'))\n",
    "user_counts = df['reviewerID'].value_counts()\n",
    "print(user_counts)\n",
    "# # 筛选出评价产品数大于等于10的用户\n",
    "ten_core_users = user_counts[(user_counts >= 11)]\n",
    "print(ten_core_users)"
   ]
  },
  {
   "cell_type": "code",
   "execution_count": 122,
   "metadata": {},
   "outputs": [
    {
     "name": "stdout",
     "output_type": "stream",
     "text": [
      "(3806483, 5)\n"
     ]
    }
   ],
   "source": [
    "sample_size = int(len(ten_core_users) * 0.2)\n",
    "sampled_users = ten_core_users.sample(n=sample_size, random_state=0)\n",
    "\n",
    "# 筛选出采样后的数据\n",
    "sampled_df = df.loc[df['reviewerID'].isin(sampled_users.index), :]\n",
    "print(sampled_df.shape)"
   ]
  },
  {
   "cell_type": "code",
   "execution_count": 123,
   "metadata": {},
   "outputs": [
    {
     "name": "stdout",
     "output_type": "stream",
     "text": [
      "A1D2C0WDCSHUWZ    3778\n",
      "A1M8PP7MLHNBQB    2707\n",
      "A22B13EJTZKCTM    2478\n",
      "A25KKXUQQ0OLWB    2354\n",
      "A3GWE80SUGORJD    2209\n",
      "                  ... \n",
      "A9YQGKO2PKRDB       11\n",
      "A29BYOJ7K2ZJAK      11\n",
      "A1OQ7AXAERZMHZ      11\n",
      "A1FVUQHV0JUILT      11\n",
      "A395N4YTYU0UUF      11\n",
      "Name: reviewerID, Length: 127299, dtype: int64\n"
     ]
    }
   ],
   "source": [
    "user_counts_sample = sampled_df['reviewerID'].value_counts()\n",
    "print(user_counts_sample)"
   ]
  },
  {
   "cell_type": "code",
   "execution_count": 124,
   "metadata": {},
   "outputs": [
    {
     "name": "stdout",
     "output_type": "stream",
     "text": [
      "最小UNIX时间为: 1388505600\n",
      "最大UNIX时间为: 1519833600\n"
     ]
    }
   ],
   "source": [
    "import datetime\n",
    "\n",
    "# 假设min_time和max_time是您的日期时间字符串\n",
    "min_time_human = \"2014-01-01 00:00:00\"\n",
    "max_time_human = \"2018-03-01 00:00:00\"\n",
    "\n",
    "# 将人类可读时间转换为UNIX时间戳\n",
    "min_time_unix = int(datetime.datetime.strptime(min_time_human, '%Y-%m-%d %H:%M:%S').timestamp())\n",
    "max_time_unix = int(datetime.datetime.strptime(max_time_human, '%Y-%m-%d %H:%M:%S').timestamp())\n",
    "\n",
    "print(f\"最小UNIX时间为: {min_time_unix}\")\n",
    "print(f\"最大UNIX时间为: {max_time_unix}\")\n"
   ]
  },
  {
   "cell_type": "code",
   "execution_count": 125,
   "metadata": {},
   "outputs": [
    {
     "name": "stderr",
     "output_type": "stream",
     "text": [
      "/tmp/ipykernel_910086/1092043061.py:9: SettingWithCopyWarning: \n",
      "A value is trying to be set on a copy of a slice from a DataFrame.\n",
      "Try using .loc[row_indexer,col_indexer] = value instead\n",
      "\n",
      "See the caveats in the documentation: https://pandas.pydata.org/pandas-docs/stable/user_guide/indexing.html#returning-a-view-versus-a-copy\n",
      "  sampled_df['time_periods'] = pd.cut(sampled_df['unixReviewTime'], bins=time_range, include_lowest=True)\n",
      "/data/shith/anaconda3/envs/pytorch/lib/python3.10/site-packages/IPython/core/pylabtools.py:152: UserWarning: Glyph 25968 (\\N{CJK UNIFIED IDEOGRAPH-6570}) missing from current font.\n",
      "  fig.canvas.print_figure(bytes_io, **kw)\n",
      "/data/shith/anaconda3/envs/pytorch/lib/python3.10/site-packages/IPython/core/pylabtools.py:152: UserWarning: Glyph 25454 (\\N{CJK UNIFIED IDEOGRAPH-636E}) missing from current font.\n",
      "  fig.canvas.print_figure(bytes_io, **kw)\n",
      "/data/shith/anaconda3/envs/pytorch/lib/python3.10/site-packages/IPython/core/pylabtools.py:152: UserWarning: Glyph 37327 (\\N{CJK UNIFIED IDEOGRAPH-91CF}) missing from current font.\n",
      "  fig.canvas.print_figure(bytes_io, **kw)\n",
      "/data/shith/anaconda3/envs/pytorch/lib/python3.10/site-packages/IPython/core/pylabtools.py:152: UserWarning: Glyph 27599 (\\N{CJK UNIFIED IDEOGRAPH-6BCF}) missing from current font.\n",
      "  fig.canvas.print_figure(bytes_io, **kw)\n",
      "/data/shith/anaconda3/envs/pytorch/lib/python3.10/site-packages/IPython/core/pylabtools.py:152: UserWarning: Glyph 20010 (\\N{CJK UNIFIED IDEOGRAPH-4E2A}) missing from current font.\n",
      "  fig.canvas.print_figure(bytes_io, **kw)\n",
      "/data/shith/anaconda3/envs/pytorch/lib/python3.10/site-packages/IPython/core/pylabtools.py:152: UserWarning: Glyph 26102 (\\N{CJK UNIFIED IDEOGRAPH-65F6}) missing from current font.\n",
      "  fig.canvas.print_figure(bytes_io, **kw)\n",
      "/data/shith/anaconda3/envs/pytorch/lib/python3.10/site-packages/IPython/core/pylabtools.py:152: UserWarning: Glyph 27573 (\\N{CJK UNIFIED IDEOGRAPH-6BB5}) missing from current font.\n",
      "  fig.canvas.print_figure(bytes_io, **kw)\n",
      "/data/shith/anaconda3/envs/pytorch/lib/python3.10/site-packages/IPython/core/pylabtools.py:152: UserWarning: Glyph 30340 (\\N{CJK UNIFIED IDEOGRAPH-7684}) missing from current font.\n",
      "  fig.canvas.print_figure(bytes_io, **kw)\n",
      "/data/shith/anaconda3/envs/pytorch/lib/python3.10/site-packages/IPython/core/pylabtools.py:152: UserWarning: Glyph 38388 (\\N{CJK UNIFIED IDEOGRAPH-95F4}) missing from current font.\n",
      "  fig.canvas.print_figure(bytes_io, **kw)\n"
     ]
    },
    {
     "data": {
      "image/png": "[encoded data removed]",
      "text/plain": [
       "<Figure size 1000x600 with 1 Axes>"
      ]
     },
     "metadata": {},
     "output_type": "display_data"
    }
   ],
   "source": [
    "# 划分20个时段\n",
    "# sampled_data\n",
    "import matplotlib.pyplot as plt\n",
    "min_time = min_time_unix # sampled_df['unixReviewTime'].min()\n",
    "max_time = max_time_unix # sampled_df['unixReviewTime'].max()\n",
    "time_range = np.linspace(min_time, max_time, 20)\n",
    "\n",
    "# 根据时间范围划分时段\n",
    "sampled_df['time_periods'] = pd.cut(sampled_df['unixReviewTime'], bins=time_range, include_lowest=True)\n",
    "\n",
    "# 绘制每个时段的数据量图表\n",
    "counts_per_period = sampled_df['time_periods'].value_counts().sort_index()\n",
    "counts_per_period.plot(kind='bar', figsize=(10, 6))\n",
    "plt.title('每个时段的数据量')\n",
    "plt.xlabel('时间段')\n",
    "plt.ylabel('数据量')\n",
    "plt.show()"
   ]
  },
  {
   "cell_type": "code",
   "execution_count": 126,
   "metadata": {},
   "outputs": [
    {
     "name": "stderr",
     "output_type": "stream",
     "text": [
      "/tmp/ipykernel_910086/1762283620.py:1: SettingWithCopyWarning: \n",
      "A value is trying to be set on a copy of a slice from a DataFrame\n",
      "\n",
      "See the caveats in the documentation: https://pandas.pydata.org/pandas-docs/stable/user_guide/indexing.html#returning-a-view-versus-a-copy\n",
      "  sampled_df.drop(labels='time_periods', inplace=True, axis=1)\n"
     ]
    }
   ],
   "source": [
    "sampled_df.drop(labels='time_periods', inplace=True, axis=1)"
   ]
  },
  {
   "cell_type": "code",
   "execution_count": 127,
   "metadata": {},
   "outputs": [
    {
     "name": "stdout",
     "output_type": "stream",
     "text": [
      "The Pillars of the Earth                                3540\n",
      "The Girl on the Train                                   3090\n",
      "Gone Girl                                               2408\n",
      "Divergent                                               2172\n",
      "The Nightingale: A Novel                                1983\n",
      "                                                        ... \n",
      "The Vulture Fund                                           1\n",
      "Blossoms                                                   1\n",
      "Deadly Harvest                                             1\n",
      "Mindblindness: An Essay on Autism and Theory of Mind       1\n",
      " The Lusca eBook                                           1\n",
      "Name: title, Length: 539903, dtype: int64\n",
      "The Pillars of the Earth                          3540\n",
      "The Girl on the Train                             3090\n",
      "Gone Girl                                         2408\n",
      "Divergent                                         2172\n",
      "The Nightingale: A Novel                          1983\n",
      "                                                  ... \n",
      "Wrecked (Volume 1)                                  50\n",
      "The Belial Ring (The Belial Series) (Volume 3)      50\n",
      "The Snowy Day                                       50\n",
      "Love In Between (Love Series)                       50\n",
      "London                                              50\n",
      "Name: title, Length: 10332, dtype: int64\n"
     ]
    }
   ],
   "source": [
    "cnt_title = sampled_df['title'].value_counts()\n",
    "title_20_list = cnt_title[(cnt_title >= 50)].index.tolist()\n",
    "sampled_df_20_core = sampled_df.loc[sampled_df['title'].isin(title_20_list),:]\n",
    "print(cnt_title)\n",
    "print(sampled_df_20_core['title'].value_counts())"
   ]
  },
  {
   "cell_type": "code",
   "execution_count": 128,
   "metadata": {},
   "outputs": [
    {
     "name": "stdout",
     "output_type": "stream",
     "text": [
      "                asin                                              title  \\\n",
      "1418      0001720392                                 Green Eggs and Ham   \n",
      "1422      0001720392                                 Green Eggs and Ham   \n",
      "1443      0001720392                                 Green Eggs and Ham   \n",
      "1447      0001720392                                 Green Eggs and Ham   \n",
      "1453      0001720392                                 Green Eggs and Ham   \n",
      "...              ...                                                ...   \n",
      "27175024  B01EXLQ8DY  Blind Descent: Surviving Alone and Blind on Mo...   \n",
      "27176284  B01FMVUECK  Malcolm Gladwell: David and Goliath : Underdog...   \n",
      "27176315  B01FN30OBS                         A Young Lawyer&#39;s Story   \n",
      "27176320  B01FN30OBS                         A Young Lawyer&#39;s Story   \n",
      "27178140  B01GW712JW  The Harry Starke Series: Books 1-3 (The Harry ...   \n",
      "\n",
      "              reviewerID  unixReviewTime  overall  \n",
      "1418      A1JHRCKF8SWTWF      1517184000        1  \n",
      "1422      A19FM1TB1L1SAP      1516320000        1  \n",
      "1443      A3L4TODGKQWRA1      1508544000        0  \n",
      "1447      A35PSVGX49GMA4      1504828800        1  \n",
      "1453       AKLT8BS3Q5QC2      1501977600        1  \n",
      "...                  ...             ...      ...  \n",
      "27175024  A3JPPWIEUA0EU4      1504051200        1  \n",
      "27176284  A242J1R5A6KVQ1      1534896000        1  \n",
      "27176315   AZU9I22PS3SOS      1536796800        1  \n",
      "27176320   AKQ06T21M0V0S      1533945600        1  \n",
      "27178140   AB5HB6G7SBZQP      1538006400        1  \n",
      "\n",
      "[1122614 rows x 5 columns]\n"
     ]
    }
   ],
   "source": [
    "print(sampled_df_20_core)"
   ]
  },
  {
   "cell_type": "markdown",
   "metadata": {},
   "source": [
    "process_to_csv"
   ]
  },
  {
   "cell_type": "code",
   "execution_count": 129,
   "metadata": {},
   "outputs": [],
   "source": [
    "data = sampled_df_20_core.copy()\n",
    "interaction_dicts = dict()  \n",
    "for index, row in data.iterrows():\n",
    "    user_id, movie_id, movie_title, rating, timestamp = row['reviewerID'], row['asin'], row['title'], row['overall'], row['unixReviewTime']\n",
    "    if user_id not in interaction_dicts:\n",
    "        interaction_dicts[user_id] = {\n",
    "            'movie_id': [],\n",
    "            'rating': [],\n",
    "            'timestamp': [],\n",
    "            'movie_title':[]\n",
    "        }\n",
    "    interaction_dicts[user_id]['movie_id'].append(movie_id)\n",
    "    interaction_dicts[user_id]['rating'].append(rating)\n",
    "    interaction_dicts[user_id]['timestamp'].append(int(timestamp))\n",
    "    interaction_dicts[user_id]['movie_title'].append(movie_title)\n"
   ]
  },
  {
   "cell_type": "code",
   "execution_count": 130,
   "metadata": {},
   "outputs": [],
   "source": [
    "sequential_interaction_list = []\n",
    "seq_len = 10\n",
    "\n",
    "for user_id in interaction_dicts:\n",
    "    # print(interaction_dicts[user_id]['timestamp'])\n",
    "    temp = zip(interaction_dicts[user_id]['movie_id'], interaction_dicts[user_id]['rating'], interaction_dicts[user_id]['timestamp'], interaction_dicts[user_id]['movie_title'])\n",
    "    temp = sorted(temp, key=lambda x: x[2])\n",
    "    _,__,time,___ = zip(*temp)\n",
    "    # print(time)\n",
    "    time_list = []\n",
    "    for s in time_list:\n",
    "        time_list.append(int(s))\n",
    "    is_increasing = all(time_list[i] <= time_list[i + 1] for i in range(len(time_list) - 1))\n",
    "    # 打印整数列表和是否递增的结果\n",
    "    # print(\"整数列表:\", time_list)\n",
    "    # print(\"是否递增:\", is_increasing)\n",
    "    if not is_increasing:\n",
    "        print('not increasing')\n",
    "        break\n",
    "    result = zip(*temp)\n",
    "    interaction_dicts[user_id]['movie_id'], interaction_dicts[user_id]['rating'], interaction_dicts[user_id]['timestamp'], interaction_dicts[user_id]['movie_title'] = [list(_) for _ in result]\n",
    "    for i in range(10, len(interaction_dicts[user_id]['movie_id'])):\n",
    "        sequential_interaction_list.append(\n",
    "            [user_id, interaction_dicts[user_id]['timestamp'][i-seq_len:i], interaction_dicts[user_id]['movie_id'][i-seq_len:i], interaction_dicts[user_id]['movie_title'][i-seq_len:i], interaction_dicts[user_id]['rating'][i-seq_len:i], interaction_dicts[user_id]['movie_id'][i] , interaction_dicts[user_id]['movie_title'][i], interaction_dicts[user_id]['rating'][i], interaction_dicts[user_id]['timestamp'][i]]\n",
    "        )"
   ]
  },
  {
   "cell_type": "code",
   "execution_count": 131,
   "metadata": {},
   "outputs": [
    {
     "name": "stdout",
     "output_type": "stream",
     "text": [
      "True\n"
     ]
    }
   ],
   "source": [
    "sequential_interaction_list = sorted(sequential_interaction_list, key=lambda x: int(x[-1]))\n",
    "times = [int(sequential_interaction[-1]) for sequential_interaction in sequential_interaction_list]\n",
    "is_increasing = (times==sorted(times))\n",
    "print(is_increasing)"
   ]
  },
  {
   "cell_type": "code",
   "execution_count": 132,
   "metadata": {},
   "outputs": [
    {
     "name": "stdout",
     "output_type": "stream",
     "text": [
      "409627\n"
     ]
    }
   ],
   "source": [
    "print(len(sequential_interaction_list))"
   ]
  },
  {
   "cell_type": "code",
   "execution_count": 133,
   "metadata": {},
   "outputs": [
    {
     "name": "stdout",
     "output_type": "stream",
     "text": [
      "Earliest Timestamp: 1998-02-23 08:00:00\n",
      "Latest Timestamp: 2018-09-28 08:00:00\n",
      "最小UNIX时间为: 1393603200\n",
      "最大UNIX时间为: 1525104000\n",
      "[11893, 13161, 15546, 15562, 16822, 17277, 15598, 15152, 13239, 15911, 16942, 19124, 18676, 18924, 16242, 17323, 20942, 17566, 16178, 16090]\n",
      "328168\n"
     ]
    },
    {
     "data": {
      "text/plain": [
       "[<matplotlib.lines.Line2D at 0x7f4d3814e830>]"
      ]
     },
     "execution_count": 133,
     "metadata": {},
     "output_type": "execute_result"
    },
    {
     "data": {
      "image/png": "[encoded data removed]",
      "text/plain": [
       "<Figure size 640x480 with 1 Axes>"
      ]
     },
     "metadata": {},
     "output_type": "display_data"
    }
   ],
   "source": [
    "# Find the earliest and latest timestamps in sequential_interaction_list\n",
    "from datetime import datetime\n",
    "\n",
    "timestamps = [int(item[-1]) for item in sequential_interaction_list]  # Extract timestamps from the sequential_interaction_list\n",
    "\n",
    "# Convert timestamps from seconds to datetime objects\n",
    "timestamps = [datetime.fromtimestamp(timestamp) for timestamp in timestamps]\n",
    "\n",
    "# Find the earliest and latest timestamps\n",
    "earliest_timestamp = min(timestamps)\n",
    "latest_timestamp = max(timestamps)\n",
    "\n",
    "# Print the results in a human-readable format\n",
    "print(\"Earliest Timestamp:\", earliest_timestamp.strftime('%Y-%m-%d %H:%M:%S'))\n",
    "print(\"Latest Timestamp:\", latest_timestamp.strftime('%Y-%m-%d %H:%M:%S'))\n",
    "timestamps = [int(item[-1]) for item in sequential_interaction_list]  # Extract timestamps from the sequential_interaction_list\n",
    "earliest_timestamp = min(timestamps)\n",
    "latest_timestamp = max(timestamps)\n",
    "import datetime\n",
    "\n",
    "# 假设min_time和max_time是您的日期时间字符串\n",
    "min_time_human = \"2014-03-01 00:00:00\"\n",
    "max_time_human = \"2018-05-01 00:00:00\"\n",
    "\n",
    "# 将人类可读时间转换为UNIX时间戳\n",
    "min_time_unix = int(datetime.datetime.strptime(min_time_human, '%Y-%m-%d %H:%M:%S').timestamp())\n",
    "max_time_unix = int(datetime.datetime.strptime(max_time_human, '%Y-%m-%d %H:%M:%S').timestamp())\n",
    "\n",
    "print(f\"最小UNIX时间为: {min_time_unix}\")\n",
    "print(f\"最大UNIX时间为: {max_time_unix}\")\n",
    "\n",
    "earliest_timestamp = min_time_unix\n",
    "latest_timestamp = max_time_unix\n",
    "total_period_num = 20\n",
    "time_interval = (latest_timestamp - earliest_timestamp) / total_period_num\n",
    "sample_interval_list = []\n",
    "for i in range(total_period_num):\n",
    "    time_low = earliest_timestamp + i * time_interval\n",
    "    time_large = earliest_timestamp + (i + 1) * time_interval\n",
    "    data_interval = [sample for sample in sequential_interaction_list if (sample[-1] < time_large and sample[-1] >= time_low)]\n",
    "    data_interval_num = len(data_interval)\n",
    "    sample_interval_list.append(data_interval_num)\n",
    "\n",
    "    # for sample in sequential_interaction_list:\n",
    "    #     if (sample[-1] < time_large and sample[-1] >= time_low):\n",
    "    #         # sample.append(i) # the i denote the period num, append it to last\n",
    "\n",
    "print(sample_interval_list)\n",
    "print(sum(sample_interval_list))\n",
    "import matplotlib.pyplot as plt\n",
    "plt.plot(sample_interval_list)"
   ]
  },
  {
   "cell_type": "code",
   "execution_count": 134,
   "metadata": {},
   "outputs": [
    {
     "name": "stdout",
     "output_type": "stream",
     "text": [
      "True\n",
      "11893\n",
      "True\n",
      "13161\n",
      "True\n",
      "15546\n",
      "True\n",
      "15562\n",
      "True\n",
      "16822\n",
      "True\n",
      "17277\n",
      "True\n",
      "15598\n",
      "True\n",
      "15152\n",
      "True\n",
      "13239\n",
      "True\n",
      "15911\n",
      "True\n",
      "16942\n",
      "True\n",
      "19124\n",
      "True\n",
      "18676\n",
      "True\n",
      "18924\n",
      "True\n",
      "16242\n",
      "True\n",
      "17323\n",
      "True\n",
      "20942\n",
      "True\n",
      "17566\n",
      "True\n",
      "16178\n",
      "True\n",
      "16090\n"
     ]
    }
   ],
   "source": [
    "import csv\n",
    "# save the csv file for baselines\n",
    "num_parts = 20\n",
    "time_interval = (latest_timestamp - earliest_timestamp) / total_period_num\n",
    "# part_size = len(sequential_interaction_list) // num_parts\n",
    "for j in range(0,num_parts):\n",
    "    with open(f'./all{j}.csv', 'w') as f:\n",
    "        writer = csv.writer(f)\n",
    "        writer.writerow(['user_id', 'history_timestamp', 'history_movie_id', 'history_movie_title', 'history_rating', 'movie_id', 'movie_title', 'rating', 'timestamp'])\n",
    "        # start_index = j * part_size\n",
    "        # end_index = start_index + part_size\n",
    "        # part_data = sequential_interaction_list[start_index:end_index]\n",
    "        time_low = earliest_timestamp + j * time_interval\n",
    "        time_large = earliest_timestamp + (j + 1) * time_interval\n",
    "        part_data = [sample for sample in sequential_interaction_list if (sample[-1] < time_large and sample[-1] >= time_low)]\n",
    "        print(part_data == sorted(part_data, key = lambda x:x[-1]))\n",
    "        print(len(part_data))\n",
    "        writer.writerows(part_data)"
   ]
  },
  {
   "cell_type": "code",
   "execution_count": 135,
   "metadata": {},
   "outputs": [
    {
     "name": "stdout",
     "output_type": "stream",
     "text": [
      "0\n",
      "0\n",
      "0\n",
      "0\n",
      "0\n",
      "0\n",
      "0\n",
      "0\n",
      "0\n",
      "0\n",
      "0\n",
      "0\n",
      "0\n",
      "0\n",
      "0\n",
      "0\n",
      "0\n",
      "0\n",
      "0\n",
      "0\n"
     ]
    }
   ],
   "source": [
    "for i in range(20):\n",
    "    data = pd.read_csv(f'/data/shith/amazon_book/all{i}.csv')\n",
    "    data = data.dropna(axis = 0)\n",
    "    data.to_csv(f'/data/shith/amazon_book/all{i}.csv')\n",
    "    null_counts = data.isnull().sum().sum()\n",
    "    print(null_counts)"
   ]
  },
  {
   "cell_type": "code",
   "execution_count": 136,
   "metadata": {},
   "outputs": [],
   "source": [
    "def csv_to_csv(input_path, output_num):\n",
    "    data = pd.read_csv(input_path)\n",
    "    # import random\n",
    "    train_data = data[:int(0.9 * data.shape[0])]\n",
    "    val_data = data[int(0.9 * data.shape[0]):]\n",
    "    test_data = data[:]\n",
    "    j = output_num\n",
    "    train_data.to_csv(f'./train{j}.csv')\n",
    "    val_data.to_csv(f'./val{j}.csv')\n",
    "    test_data.to_csv(f'./test{j}.csv')\n",
    "for j in range(20):\n",
    "    csv_to_csv(f'./all{j}.csv', j)"
   ]
  },
  {
   "cell_type": "code",
   "execution_count": 137,
   "metadata": {},
   "outputs": [],
   "source": [
    "import json\n",
    "def csv_to_json(input_path, output_path):\n",
    "    data = pd.read_csv(input_path)\n",
    "    # import random\n",
    "    # seed = 2000\n",
    "    # random.seed(seed)\n",
    "    # random_indices = random.sample(range(part_size), 1000)\n",
    "    # 从 part_data 中根据选取的索引获取对应的值\n",
    "    # selected_values = [data[i] for i in random_indices]\n",
    "    # part_data = data.iloc[random_indices]\n",
    "    part_data = data.copy()\n",
    "    json_list = []\n",
    "    # print(part_data.max())\n",
    "    part_data.sort_values(by = ['user_id', 'timestamp'], ascending= True,inplace=True)\n",
    "    for index, row in part_data.iterrows():\n",
    "        row['history_movie_id'] = eval(row['history_movie_id'])\n",
    "        row['history_rating'] = eval(row['history_rating'])\n",
    "        row['history_movie_title'] = eval(row['history_movie_title'])\n",
    "        L = len(row['history_movie_id'])\n",
    "        preference = []\n",
    "        unpreference = []\n",
    "        for i in range(L):\n",
    "            if int(row['history_rating'][i]) == 1:\n",
    "                preference.append(row['history_movie_title'][i])\n",
    "                # preference.append(movie_id_to_name[int(row['history_movie_id'][i])])\n",
    "            else:\n",
    "                unpreference.append(row['history_movie_title'][i])\n",
    "                # unpreference.append(movie_id_to_name[int(row['history_movie_id'][i])])\n",
    "        target_movie = row['movie_title'] # movie_id_to_name[int(row['movie_id'])]\n",
    "        preference_str = \"\"\n",
    "        unpreference_str = \"\"\n",
    "        for i in range(len(preference)):\n",
    "            if i == 0:\n",
    "                preference_str += \"\\\"\" + preference[i] + \"\\\"\"\n",
    "            else:\n",
    "                preference_str += \", \\\"\" + preference[i] + \"\\\"\"\n",
    "        for i in range(len(unpreference)):\n",
    "            if i == 0:\n",
    "                unpreference_str += \"\\\"\" + unpreference[i] + \"\\\"\"\n",
    "            else:\n",
    "                unpreference_str += \", \\\"\" + unpreference[i] + \"\\\"\"\n",
    "        target_preference = int(row['rating'])\n",
    "\n",
    "        try:\n",
    "            target_movie_str = \"\\\"\" + target_movie + \"\\\"\"\n",
    "        except:\n",
    "            print(target_movie)\n",
    "            continue\n",
    "        # print(target_movie)\n",
    "        target_preference_str = \"Yes.\" if target_preference == 1 else \"No.\"\n",
    "        json_list.append({\n",
    "            \"instruction\": \"Given the user's preference and unpreference, identify whether the user will like the target book by answering \\\"Yes.\\\" or \\\"No.\\\".\",\n",
    "            \"input\": f\"User Preference: {preference_str}\\nUser Unpreference: {unpreference_str}\\nWhether the user will like the target book {target_movie_str}?\",\n",
    "            \"output\": target_preference_str,\n",
    "        })\n",
    "        \n",
    "    with open(output_path, 'w') as f:\n",
    "        json.dump(json_list, f, indent=4)"
   ]
  },
  {
   "cell_type": "code",
   "execution_count": 138,
   "metadata": {},
   "outputs": [
    {
     "name": "stdout",
     "output_type": "stream",
     "text": [
      "nan\n",
      "nan\n",
      "nan\n",
      "nan\n",
      "nan\n",
      "nan\n",
      "nan\n",
      "nan\n",
      "nan\n",
      "nan\n",
      "nan\n",
      "nan\n",
      "nan\n",
      "nan\n",
      "nan\n",
      "nan\n",
      "nan\n",
      "nan\n",
      "nan\n",
      "nan\n",
      "nan\n",
      "nan\n",
      "nan\n",
      "nan\n",
      "nan\n",
      "nan\n",
      "nan\n",
      "nan\n",
      "nan\n",
      "nan\n",
      "nan\n",
      "nan\n",
      "nan\n",
      "nan\n",
      "nan\n",
      "nan\n",
      "nan\n",
      "nan\n",
      "nan\n",
      "nan\n",
      "nan\n",
      "nan\n",
      "nan\n",
      "nan\n",
      "nan\n",
      "nan\n",
      "nan\n",
      "nan\n",
      "nan\n",
      "nan\n",
      "nan\n",
      "nan\n",
      "nan\n",
      "nan\n",
      "nan\n",
      "nan\n",
      "nan\n",
      "nan\n",
      "nan\n",
      "nan\n",
      "nan\n",
      "nan\n",
      "nan\n",
      "nan\n",
      "nan\n",
      "nan\n",
      "nan\n",
      "nan\n",
      "nan\n",
      "nan\n",
      "nan\n",
      "nan\n",
      "nan\n",
      "nan\n",
      "nan\n",
      "nan\n",
      "nan\n",
      "nan\n",
      "nan\n",
      "nan\n",
      "nan\n",
      "nan\n",
      "nan\n",
      "nan\n",
      "nan\n",
      "nan\n",
      "nan\n",
      "nan\n",
      "nan\n",
      "nan\n",
      "nan\n",
      "nan\n",
      "nan\n",
      "nan\n",
      "nan\n",
      "nan\n",
      "nan\n",
      "nan\n",
      "nan\n",
      "nan\n",
      "nan\n",
      "nan\n",
      "nan\n",
      "nan\n",
      "nan\n",
      "nan\n",
      "nan\n",
      "nan\n",
      "nan\n",
      "nan\n",
      "nan\n",
      "nan\n",
      "nan\n",
      "nan\n",
      "nan\n",
      "nan\n",
      "nan\n",
      "nan\n",
      "nan\n",
      "nan\n",
      "nan\n",
      "nan\n",
      "nan\n",
      "nan\n",
      "nan\n",
      "nan\n",
      "nan\n",
      "nan\n",
      "nan\n",
      "nan\n",
      "nan\n",
      "nan\n",
      "nan\n",
      "nan\n",
      "nan\n",
      "nan\n",
      "nan\n",
      "nan\n",
      "nan\n",
      "nan\n",
      "nan\n",
      "nan\n",
      "nan\n",
      "nan\n",
      "nan\n",
      "nan\n",
      "nan\n",
      "nan\n",
      "nan\n",
      "nan\n",
      "nan\n",
      "nan\n",
      "nan\n",
      "nan\n",
      "nan\n",
      "nan\n",
      "nan\n",
      "nan\n",
      "nan\n",
      "nan\n",
      "nan\n",
      "nan\n",
      "nan\n",
      "nan\n",
      "nan\n",
      "nan\n",
      "nan\n",
      "nan\n",
      "nan\n",
      "nan\n",
      "nan\n",
      "nan\n",
      "nan\n",
      "nan\n",
      "nan\n",
      "nan\n",
      "nan\n",
      "nan\n",
      "nan\n",
      "nan\n",
      "nan\n",
      "nan\n",
      "nan\n",
      "nan\n",
      "nan\n",
      "nan\n",
      "nan\n",
      "nan\n",
      "nan\n",
      "nan\n",
      "nan\n",
      "nan\n",
      "nan\n",
      "nan\n",
      "nan\n",
      "nan\n",
      "nan\n",
      "nan\n",
      "nan\n",
      "nan\n",
      "nan\n",
      "nan\n",
      "nan\n",
      "nan\n",
      "nan\n",
      "nan\n",
      "nan\n",
      "nan\n",
      "nan\n",
      "nan\n"
     ]
    }
   ],
   "source": [
    "for j in range(20):\n",
    "    csv_to_json(f'./train{j}.csv', f'./train{j}.json')\n",
    "    csv_to_json(f'./val{j}.csv', f'./val{j}.json')\n",
    "    csv_to_json(f'./test{j}.csv', f'./test{j}.json')"
   ]
  }
 ],
 "metadata": {
  "kernelspec": {
   "display_name": "pytorch",
   "language": "python",
   "name": "python3"
  },
  "language_info": {
   "codemirror_mode": {
    "name": "ipython",
    "version": 3
   },
   "file_extension": ".py",
   "mimetype": "text/x-python",
   "name": "python",
   "nbconvert_exporter": "python",
   "pygments_lexer": "ipython3",
   "version": "3.10.4"
  }
 },
 "nbformat": 4,
 "nbformat_minor": 2
}
